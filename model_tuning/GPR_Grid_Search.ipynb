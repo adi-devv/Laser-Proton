{
 "cells": [
  {
   "cell_type": "markdown",
   "id": "d1b87c65",
   "metadata": {},
   "source": [
    "### Grid Search for GPR Hyperparameters\n",
    "- Used custom `GridSearchCV` function to work with Multi-Output Exact GP Model"
   ]
  },
  {
   "cell_type": "code",
   "execution_count": 1,
   "id": "1ef901f1-f4db-4925-9283-5994fe3251e0",
   "metadata": {},
   "outputs": [
    {
     "name": "stdout",
     "output_type": "stream",
     "text": [
      "Using  cpu\n"
     ]
    }
   ],
   "source": [
    "import numpy as np\n",
    "import torch\n",
    "import torch.nn as nn\n",
    "import torch.optim as optim\n",
    "import pickle\n",
    "import sys\n",
    "import pandas as pd\n",
    "import time\n",
    "from datetime import datetime\n",
    "import matplotlib.pyplot as plt\n",
    "from tqdm.auto import tqdm, trange\n",
    "from sklearn.model_selection import train_test_split\n",
    "from sklearn.preprocessing import StandardScaler\n",
    "from sklearn.metrics import mean_squared_error, r2_score, mean_absolute_percentage_error\n",
    "import itertools\n",
    "sys.path.append('../')\n",
    "device = torch.device('cuda' if torch.cuda.is_available() else 'cpu')\n",
    "import gpytorch\n",
    "import warnings\n",
    "warnings.filterwarnings(\"ignore\", message=\"The input matches the stored training data. Did you forget to call model.train()?\") \n",
    "import gc\n",
    "print('Using ', device)\n",
    "dataType = torch.float64\n",
    "torch.set_default_dtype(dataType)"
   ]
  },
  {
   "cell_type": "code",
   "execution_count": 2,
   "id": "402264ad-eebd-4173-9c41-e88c9997b9a5",
   "metadata": {},
   "outputs": [],
   "source": [
    "noise = 10 # ADJUST level of gaussian noise added to outputs\n",
    "mod_type = 'gpr'\n",
    "description = mod_type + '_noise-' + str(noise)\n",
    "filename = '../datasets/fuchs_v3-2_seed-5_points_25000_noise_' + str(noise) + '.csv'  # CHANGE TO DESIRED DATA FILE\n",
    "df = pd.read_csv(filename)"
   ]
  },
  {
   "cell_type": "code",
   "execution_count": 3,
   "id": "287f8774-7fa4-4e6d-970a-7e23e90211f4",
   "metadata": {},
   "outputs": [
    {
     "name": "stdout",
     "output_type": "stream",
     "text": [
      "train ds length:  5000\n",
      "torch.float64\n"
     ]
    }
   ],
   "source": [
    "input_list = ['Intensity_(W_cm2)', 'Target_Thickness (um)', 'Focal_Distance_(um)'] # independent variables\n",
    "output_list = ['Max_Proton_Energy_(MeV)', 'Total_Proton_Energy_(MeV)', 'Avg_Proton_Energy_(MeV)',\n",
    "               'Max_Proton_Energy_Exact_(MeV)', 'Total_Proton_Energy_Exact_(MeV)', 'Avg_Proton_Energy_Exact_(MeV)'] # training outputs\n",
    "\n",
    "X = df[input_list].copy()\n",
    "y = df[output_list].copy()\n",
    "# X.iloc[:, 0] = X.iloc[:,0].apply(lambda x: np.log(x)) # Apply Log Scale to Intensity\n",
    "# y.iloc[:] = y.iloc[:].apply(lambda x: np.log(x)) # Apply Log Scale to Max,Tot,Avg Energy\n",
    "X[X.columns[0]] = np.log(X[X.columns[0]])\n",
    "for col in y.columns:\n",
    "    y[col] = np.log(y[col])\n",
    "\n",
    "\n",
    "\n",
    "X = X.to_numpy()\n",
    "y = y.to_numpy()\n",
    "\n",
    "X_train, X_test, y_train, y_test = train_test_split(X, y, train_size=0.8, shuffle = False)\n",
    "y_train = y_train[:, 0:3]\n",
    "y_test = y_test[:, 3:6]\n",
    "pct = 25 # Using all 20,000 points in training/validation set\n",
    "len_df = int(len(X_train)*(pct/100))\n",
    "X_train = X_train[0:len_df]\n",
    "y_train = y_train[0:len_df]\n",
    "\n",
    "ss_in = StandardScaler()\n",
    "ss_in.fit(X_train)\n",
    "X_train_norm = ss_in.transform(X_train)\n",
    "X_test_norm = ss_in.transform(X_test)\n",
    "\n",
    "ss_out = StandardScaler()\n",
    "ss_out.fit(y_train)\n",
    "y_train_norm = ss_out.transform(y_train)\n",
    "\n",
    "X_train_norm = torch.tensor(X_train_norm, dtype=dataType)\n",
    "y_train_norm = torch.tensor(y_train_norm, dtype=dataType)\n",
    "\n",
    "print('train ds length: ', len(X_train_norm))\n",
    "print(X_train_norm.dtype)"
   ]
  },
  {
   "cell_type": "code",
   "execution_count": 4,
   "id": "df10eacc-41aa-4145-a34f-259244661d9a",
   "metadata": {},
   "outputs": [],
   "source": [
    "class Exact_GP(gpytorch.models.ExactGP):\n",
    "    def __init__(self, train_x, train_y, likelihood):\n",
    "        super(Exact_GP, self).__init__(train_x, train_y, likelihood)\n",
    "        self.mean_module = gpytorch.means.ConstantMean()\n",
    "        self.covar_module = gpytorch.kernels.ScaleKernel(gpytorch.kernels.RBFKernel())\n",
    "\n",
    "    def forward(self, x):\n",
    "        mean_x = self.mean_module(x)\n",
    "        covar_x = self.covar_module(x)\n",
    "        return gpytorch.distributions.MultivariateNormal(mean_x, covar_x)"
   ]
  },
  {
   "cell_type": "code",
   "execution_count": 5,
   "id": "eaa77081-235c-4df6-8629-01a08cdd2dcd",
   "metadata": {},
   "outputs": [
    {
     "name": "stdout",
     "output_type": "stream",
     "text": [
      "starting CV for lr=1.0, epochs=30\n"
     ]
    },
    {
     "data": {
      "application/vnd.jupyter.widget-view+json": {
       "model_id": "d5f4b77a769b4b5bac64ef53c3b1c939",
       "version_major": 2,
       "version_minor": 0
      },
      "text/plain": [
       "CV:   0%|          | 0/3 [00:00<?, ?it/s]"
      ]
     },
     "metadata": {},
     "output_type": "display_data"
    },
    {
     "data": {
      "application/vnd.jupyter.widget-view+json": {
       "model_id": "e86a5df98ca44a70bafbafe0c134de07",
       "version_major": 2,
       "version_minor": 0
      },
      "text/plain": [
       "output:   0%|          | 0/3 [00:00<?, ?it/s]"
      ]
     },
     "metadata": {},
     "output_type": "display_data"
    },
    {
     "name": "stdout",
     "output_type": "stream",
     "text": [
      "11.263386063229095 11.292660590549886\n",
      "8.758189876952326 8.768135661467827\n",
      "11.518935048899332 11.528095776724301\n"
     ]
    },
    {
     "data": {
      "application/vnd.jupyter.widget-view+json": {
       "model_id": "662a69442f024ddd96f911a85afe051a",
       "version_major": 2,
       "version_minor": 0
      },
      "text/plain": [
       "output:   0%|          | 0/3 [00:00<?, ?it/s]"
      ]
     },
     "metadata": {},
     "output_type": "display_data"
    },
    {
     "name": "stdout",
     "output_type": "stream",
     "text": [
      "11.055850044141042 11.083047543141323\n",
      "8.570801476856996 8.579923253360496\n",
      "11.282215750957164 11.290814026297769\n"
     ]
    },
    {
     "data": {
      "application/vnd.jupyter.widget-view+json": {
       "model_id": "bb48ec9e98114d848a837d0484c042f1",
       "version_major": 2,
       "version_minor": 0
      },
      "text/plain": [
       "output:   0%|          | 0/3 [00:00<?, ?it/s]"
      ]
     },
     "metadata": {},
     "output_type": "display_data"
    },
    {
     "name": "stdout",
     "output_type": "stream",
     "text": [
      "10.975263053536834 11.00282066864438\n",
      "8.459463770185522 8.46966214589579\n",
      "11.118926826209393 11.127814182453086\n",
      "starting CV for lr=1.0, epochs=50\n"
     ]
    },
    {
     "data": {
      "application/vnd.jupyter.widget-view+json": {
       "model_id": "795b5383b00946d7b080047fd757d1e1",
       "version_major": 2,
       "version_minor": 0
      },
      "text/plain": [
       "CV:   0%|          | 0/3 [00:00<?, ?it/s]"
      ]
     },
     "metadata": {},
     "output_type": "display_data"
    },
    {
     "data": {
      "application/vnd.jupyter.widget-view+json": {
       "model_id": "4b5d6afdb9fe414cab39f4d794fb36d6",
       "version_major": 2,
       "version_minor": 0
      },
      "text/plain": [
       "output:   0%|          | 0/3 [00:00<?, ?it/s]"
      ]
     },
     "metadata": {},
     "output_type": "display_data"
    },
    {
     "name": "stdout",
     "output_type": "stream",
     "text": [
      "11.188697839982655 11.213385762393957\n",
      "10.670672223613863 10.67963632655081\n",
      "11.084390755219363 11.091740860325137\n"
     ]
    },
    {
     "data": {
      "application/vnd.jupyter.widget-view+json": {
       "model_id": "9c73e440b7104c83aeec3ec299a0763c",
       "version_major": 2,
       "version_minor": 0
      },
      "text/plain": [
       "output:   0%|          | 0/3 [00:00<?, ?it/s]"
      ]
     },
     "metadata": {},
     "output_type": "display_data"
    },
    {
     "name": "stdout",
     "output_type": "stream",
     "text": [
      "11.088831668831489 11.113709785041747\n",
      "10.509008554166133 10.51890129446633\n",
      "10.96955827020117 10.97701593012026\n"
     ]
    },
    {
     "data": {
      "application/vnd.jupyter.widget-view+json": {
       "model_id": "bacc3e6b1a5a4171a8c811f19947867d",
       "version_major": 2,
       "version_minor": 0
      },
      "text/plain": [
       "output:   0%|          | 0/3 [00:00<?, ?it/s]"
      ]
     },
     "metadata": {},
     "output_type": "display_data"
    },
    {
     "name": "stdout",
     "output_type": "stream",
     "text": [
      "10.938219253233896 10.964369033459798\n",
      "10.346048550292073 10.35494399662706\n",
      "10.859856681919927 10.866959737429076\n",
      "starting CV for lr=0.5, epochs=30\n"
     ]
    },
    {
     "data": {
      "application/vnd.jupyter.widget-view+json": {
       "model_id": "d606a60adcf24de6b4038f52be7a6d26",
       "version_major": 2,
       "version_minor": 0
      },
      "text/plain": [
       "CV:   0%|          | 0/3 [00:00<?, ?it/s]"
      ]
     },
     "metadata": {},
     "output_type": "display_data"
    },
    {
     "data": {
      "application/vnd.jupyter.widget-view+json": {
       "model_id": "18851f7b188c4fb287658f8242cd3c74",
       "version_major": 2,
       "version_minor": 0
      },
      "text/plain": [
       "output:   0%|          | 0/3 [00:00<?, ?it/s]"
      ]
     },
     "metadata": {},
     "output_type": "display_data"
    },
    {
     "name": "stdout",
     "output_type": "stream",
     "text": [
      "12.902341426558714 12.925711250860791\n",
      "14.602866762355847 14.621762556611325\n",
      "12.531160544591854 12.54504619407253\n"
     ]
    },
    {
     "data": {
      "application/vnd.jupyter.widget-view+json": {
       "model_id": "b989df5c75f24dcb99b8491af7a7b68e",
       "version_major": 2,
       "version_minor": 0
      },
      "text/plain": [
       "output:   0%|          | 0/3 [00:00<?, ?it/s]"
      ]
     },
     "metadata": {},
     "output_type": "display_data"
    },
    {
     "name": "stdout",
     "output_type": "stream",
     "text": [
      "12.777636870407097 12.801875223032027\n",
      "14.403993133034106 14.422239783323079\n",
      "12.422853026734359 12.43620027460947\n"
     ]
    },
    {
     "data": {
      "application/vnd.jupyter.widget-view+json": {
       "model_id": "0467023bba5f47b2a8beb9712e156476",
       "version_major": 2,
       "version_minor": 0
      },
      "text/plain": [
       "output:   0%|          | 0/3 [00:00<?, ?it/s]"
      ]
     },
     "metadata": {},
     "output_type": "display_data"
    },
    {
     "name": "stdout",
     "output_type": "stream",
     "text": [
      "12.679080873187308 12.701454731331854\n",
      "14.254807917340056 14.27328065911231\n",
      "12.345421373375109 12.359239332441499\n",
      "starting CV for lr=0.5, epochs=50\n"
     ]
    },
    {
     "data": {
      "application/vnd.jupyter.widget-view+json": {
       "model_id": "c1bca6e08d12421baaf039826f23258b",
       "version_major": 2,
       "version_minor": 0
      },
      "text/plain": [
       "CV:   0%|          | 0/3 [00:00<?, ?it/s]"
      ]
     },
     "metadata": {},
     "output_type": "display_data"
    },
    {
     "data": {
      "application/vnd.jupyter.widget-view+json": {
       "model_id": "c0d4ceec5c6a4e75afb36de3d601399f",
       "version_major": 2,
       "version_minor": 0
      },
      "text/plain": [
       "output:   0%|          | 0/3 [00:00<?, ?it/s]"
      ]
     },
     "metadata": {},
     "output_type": "display_data"
    },
    {
     "name": "stdout",
     "output_type": "stream",
     "text": [
      "11.42030915519303 11.445039943567657\n",
      "10.79027728981961 10.803571094135823\n",
      "11.363845877321582 11.374339195822442\n"
     ]
    },
    {
     "data": {
      "application/vnd.jupyter.widget-view+json": {
       "model_id": "ec61420342ae4aac87fe221e44861ef8",
       "version_major": 2,
       "version_minor": 0
      },
      "text/plain": [
       "output:   0%|          | 0/3 [00:00<?, ?it/s]"
      ]
     },
     "metadata": {},
     "output_type": "display_data"
    },
    {
     "name": "stdout",
     "output_type": "stream",
     "text": [
      "11.265205544715915 11.29046346676003\n",
      "10.610174122949953 10.622532118726165\n",
      "11.212229562464048 11.22247338549606\n"
     ]
    },
    {
     "data": {
      "application/vnd.jupyter.widget-view+json": {
       "model_id": "1452ca37ecbc4aa2a788ae3ffc6ef057",
       "version_major": 2,
       "version_minor": 0
      },
      "text/plain": [
       "output:   0%|          | 0/3 [00:00<?, ?it/s]"
      ]
     },
     "metadata": {},
     "output_type": "display_data"
    },
    {
     "name": "stdout",
     "output_type": "stream",
     "text": [
      "11.147066645776968 11.171762988093828\n",
      "10.460626715196078 10.473963033824065\n",
      "11.108140653639868 11.118608267600347\n",
      "starting CV for lr=0.2, epochs=30\n"
     ]
    },
    {
     "data": {
      "application/vnd.jupyter.widget-view+json": {
       "model_id": "f69b17f346bb430e861f194c01fe1096",
       "version_major": 2,
       "version_minor": 0
      },
      "text/plain": [
       "CV:   0%|          | 0/3 [00:00<?, ?it/s]"
      ]
     },
     "metadata": {},
     "output_type": "display_data"
    },
    {
     "data": {
      "application/vnd.jupyter.widget-view+json": {
       "model_id": "a5ad91b80e6f4da3b3145075766794d7",
       "version_major": 2,
       "version_minor": 0
      },
      "text/plain": [
       "output:   0%|          | 0/3 [00:00<?, ?it/s]"
      ]
     },
     "metadata": {},
     "output_type": "display_data"
    },
    {
     "name": "stdout",
     "output_type": "stream",
     "text": [
      "8.454500369012699 8.473506547460596\n",
      "12.038331865990713 12.060990252363768\n",
      "8.181780478792941 8.197406251297336\n"
     ]
    },
    {
     "data": {
      "application/vnd.jupyter.widget-view+json": {
       "model_id": "ae9f921ca7d2419fa84712a459255193",
       "version_major": 2,
       "version_minor": 0
      },
      "text/plain": [
       "output:   0%|          | 0/3 [00:00<?, ?it/s]"
      ]
     },
     "metadata": {},
     "output_type": "display_data"
    },
    {
     "name": "stdout",
     "output_type": "stream",
     "text": [
      "8.387758637498665 8.406358941739096\n",
      "12.014421246612077 12.038545689757514\n",
      "8.111293861457998 8.127499042493504\n"
     ]
    },
    {
     "data": {
      "application/vnd.jupyter.widget-view+json": {
       "model_id": "c97de7df0f8247b2857bebd27891d724",
       "version_major": 2,
       "version_minor": 0
      },
      "text/plain": [
       "output:   0%|          | 0/3 [00:00<?, ?it/s]"
      ]
     },
     "metadata": {},
     "output_type": "display_data"
    },
    {
     "name": "stdout",
     "output_type": "stream",
     "text": [
      "8.349547615893162 8.36818239594245\n",
      "11.9942580145754 12.016910279094324\n",
      "8.055759318324336 8.0711292862998\n",
      "starting CV for lr=0.2, epochs=50\n"
     ]
    },
    {
     "data": {
      "application/vnd.jupyter.widget-view+json": {
       "model_id": "dd672349f14f41a4be3f89c265020a5d",
       "version_major": 2,
       "version_minor": 0
      },
      "text/plain": [
       "CV:   0%|          | 0/3 [00:00<?, ?it/s]"
      ]
     },
     "metadata": {},
     "output_type": "display_data"
    },
    {
     "data": {
      "application/vnd.jupyter.widget-view+json": {
       "model_id": "4f4904530c864692ad0d93b43d36b4db",
       "version_major": 2,
       "version_minor": 0
      },
      "text/plain": [
       "output:   0%|          | 0/3 [00:00<?, ?it/s]"
      ]
     },
     "metadata": {},
     "output_type": "display_data"
    },
    {
     "name": "stdout",
     "output_type": "stream",
     "text": [
      "11.813089095770223 11.83882219801778\n",
      "10.293741980297607 10.30958206929516\n",
      "11.83293104874923 11.848584074969304\n"
     ]
    },
    {
     "data": {
      "application/vnd.jupyter.widget-view+json": {
       "model_id": "cca360a557264969ad2d3c6aa6212494",
       "version_major": 2,
       "version_minor": 0
      },
      "text/plain": [
       "output:   0%|          | 0/3 [00:00<?, ?it/s]"
      ]
     },
     "metadata": {},
     "output_type": "display_data"
    },
    {
     "name": "stdout",
     "output_type": "stream",
     "text": [
      "11.62851330076452 11.653788723124935\n",
      "10.096207554073391 10.112638035839723\n",
      "11.668468839377663 11.684567166171616\n"
     ]
    },
    {
     "data": {
      "application/vnd.jupyter.widget-view+json": {
       "model_id": "8a79bbb1081c4cdbb5a36e2412a7db83",
       "version_major": 2,
       "version_minor": 0
      },
      "text/plain": [
       "output:   0%|          | 0/3 [00:00<?, ?it/s]"
      ]
     },
     "metadata": {},
     "output_type": "display_data"
    },
    {
     "name": "stdout",
     "output_type": "stream",
     "text": [
      "11.49975016486847 11.524537996369885\n",
      "9.937107028420668 9.953148775607394\n",
      "11.53539444690955 11.551110258428343\n",
      "starting CV for lr=0.1, epochs=30\n"
     ]
    },
    {
     "data": {
      "application/vnd.jupyter.widget-view+json": {
       "model_id": "ccfbe3a898374e6d8f491da4bf77cfbc",
       "version_major": 2,
       "version_minor": 0
      },
      "text/plain": [
       "CV:   0%|          | 0/3 [00:00<?, ?it/s]"
      ]
     },
     "metadata": {},
     "output_type": "display_data"
    },
    {
     "data": {
      "application/vnd.jupyter.widget-view+json": {
       "model_id": "b4b5f1e539ba4ca6b847ab0e5e87a7ce",
       "version_major": 2,
       "version_minor": 0
      },
      "text/plain": [
       "output:   0%|          | 0/3 [00:00<?, ?it/s]"
      ]
     },
     "metadata": {},
     "output_type": "display_data"
    },
    {
     "name": "stdout",
     "output_type": "stream",
     "text": [
      "31.773778826065346 31.830588195900937\n",
      "59.06943489958872 59.193548064957035\n",
      "29.298662021700075 29.35303951304826\n"
     ]
    },
    {
     "data": {
      "application/vnd.jupyter.widget-view+json": {
       "model_id": "68b53f07223a4c31b317860161363b34",
       "version_major": 2,
       "version_minor": 0
      },
      "text/plain": [
       "output:   0%|          | 0/3 [00:00<?, ?it/s]"
      ]
     },
     "metadata": {},
     "output_type": "display_data"
    },
    {
     "name": "stdout",
     "output_type": "stream",
     "text": [
      "31.772028841878388 31.82819735249921\n",
      "59.06817010072299 59.19073436242173\n",
      "29.30163347377165 29.355698572406638\n"
     ]
    },
    {
     "data": {
      "application/vnd.jupyter.widget-view+json": {
       "model_id": "d20577a1028c4f319c40ef5f084ef7ea",
       "version_major": 2,
       "version_minor": 0
      },
      "text/plain": [
       "output:   0%|          | 0/3 [00:00<?, ?it/s]"
      ]
     },
     "metadata": {},
     "output_type": "display_data"
    },
    {
     "name": "stdout",
     "output_type": "stream",
     "text": [
      "31.767028157742892 31.820218824113887\n",
      "59.06861658272892 59.185486789003654\n",
      "29.289593877751642 29.341355887629256\n",
      "starting CV for lr=0.1, epochs=50\n"
     ]
    },
    {
     "data": {
      "application/vnd.jupyter.widget-view+json": {
       "model_id": "0ef8de29328b4a029e7c23f947dbfd1b",
       "version_major": 2,
       "version_minor": 0
      },
      "text/plain": [
       "CV:   0%|          | 0/3 [00:00<?, ?it/s]"
      ]
     },
     "metadata": {},
     "output_type": "display_data"
    },
    {
     "data": {
      "application/vnd.jupyter.widget-view+json": {
       "model_id": "de01f50bea8a4b43a533d62adb4ea2e2",
       "version_major": 2,
       "version_minor": 0
      },
      "text/plain": [
       "output:   0%|          | 0/3 [00:00<?, ?it/s]"
      ]
     },
     "metadata": {},
     "output_type": "display_data"
    },
    {
     "name": "stdout",
     "output_type": "stream",
     "text": [
      "12.025315908163138 12.050270428914732\n",
      "18.79157758804598 18.82935989618891\n",
      "11.373006749705493 11.396646298869664\n"
     ]
    },
    {
     "data": {
      "application/vnd.jupyter.widget-view+json": {
       "model_id": "3a86200e5da542c9a3d6ebc8e12043dc",
       "version_major": 2,
       "version_minor": 0
      },
      "text/plain": [
       "output:   0%|          | 0/3 [00:00<?, ?it/s]"
      ]
     },
     "metadata": {},
     "output_type": "display_data"
    },
    {
     "name": "stdout",
     "output_type": "stream",
     "text": [
      "11.978501083794768 12.003830003631778\n",
      "18.77158896610197 18.81050011897741\n",
      "11.326411852231537 11.350421550726102\n"
     ]
    },
    {
     "data": {
      "application/vnd.jupyter.widget-view+json": {
       "model_id": "57a2cc5ff75340dea59b6741283a3e4f",
       "version_major": 2,
       "version_minor": 0
      },
      "text/plain": [
       "output:   0%|          | 0/3 [00:00<?, ?it/s]"
      ]
     },
     "metadata": {},
     "output_type": "display_data"
    },
    {
     "name": "stdout",
     "output_type": "stream",
     "text": [
      "11.951511513912724 11.97608968113913\n",
      "18.758657577731746 18.796368235233043\n",
      "11.286609900269934 11.309694178195164\n",
      "starting CV for lr=0.05, epochs=30\n"
     ]
    },
    {
     "data": {
      "application/vnd.jupyter.widget-view+json": {
       "model_id": "262d5789882e4213b04e04e3807172b7",
       "version_major": 2,
       "version_minor": 0
      },
      "text/plain": [
       "CV:   0%|          | 0/3 [00:00<?, ?it/s]"
      ]
     },
     "metadata": {},
     "output_type": "display_data"
    },
    {
     "data": {
      "application/vnd.jupyter.widget-view+json": {
       "model_id": "ed20927a85d848c09927c742646073f5",
       "version_major": 2,
       "version_minor": 0
      },
      "text/plain": [
       "output:   0%|          | 0/3 [00:00<?, ?it/s]"
      ]
     },
     "metadata": {},
     "output_type": "display_data"
    },
    {
     "name": "stdout",
     "output_type": "stream",
     "text": [
      "79.69872511740078 79.89885815493172\n",
      "201.18094488270725 201.97332858410277\n",
      "71.83326904325799 72.03335224249037\n"
     ]
    },
    {
     "data": {
      "application/vnd.jupyter.widget-view+json": {
       "model_id": "53cdc3c8312440569dbf1bb5d907ec53",
       "version_major": 2,
       "version_minor": 0
      },
      "text/plain": [
       "output:   0%|          | 0/3 [00:00<?, ?it/s]"
      ]
     },
     "metadata": {},
     "output_type": "display_data"
    },
    {
     "name": "stdout",
     "output_type": "stream",
     "text": [
      "79.72723442908011 79.91871342250714\n",
      "201.2896534477087 202.0593300186903\n",
      "71.85013635873912 72.0439645508763\n"
     ]
    },
    {
     "data": {
      "application/vnd.jupyter.widget-view+json": {
       "model_id": "7d2a1b69c59b4b6dbabc367df123673d",
       "version_major": 2,
       "version_minor": 0
      },
      "text/plain": [
       "output:   0%|          | 0/3 [00:00<?, ?it/s]"
      ]
     },
     "metadata": {},
     "output_type": "display_data"
    },
    {
     "name": "stdout",
     "output_type": "stream",
     "text": [
      "79.73232573883364 79.91895989991629\n",
      "201.28568012853998 202.0480492888008\n",
      "71.854614537771 72.04057568461131\n",
      "starting CV for lr=0.05, epochs=50\n"
     ]
    },
    {
     "data": {
      "application/vnd.jupyter.widget-view+json": {
       "model_id": "2373b5043c9344ddbc7110c30924a6a9",
       "version_major": 2,
       "version_minor": 0
      },
      "text/plain": [
       "CV:   0%|          | 0/3 [00:00<?, ?it/s]"
      ]
     },
     "metadata": {},
     "output_type": "display_data"
    },
    {
     "data": {
      "application/vnd.jupyter.widget-view+json": {
       "model_id": "a6488509862b4a479a11f5ee7e67fa7c",
       "version_major": 2,
       "version_minor": 0
      },
      "text/plain": [
       "output:   0%|          | 0/3 [00:00<?, ?it/s]"
      ]
     },
     "metadata": {},
     "output_type": "display_data"
    },
    {
     "name": "stdout",
     "output_type": "stream",
     "text": [
      "41.6178693469607 41.702822473004005\n",
      "82.12343882299947 82.33766871602272\n",
      "38.19733689060815 38.28014711171427\n"
     ]
    },
    {
     "data": {
      "application/vnd.jupyter.widget-view+json": {
       "model_id": "3a315b01f61f48bfb89a7987e4a6fe38",
       "version_major": 2,
       "version_minor": 0
      },
      "text/plain": [
       "output:   0%|          | 0/3 [00:00<?, ?it/s]"
      ]
     },
     "metadata": {},
     "output_type": "display_data"
    },
    {
     "name": "stdout",
     "output_type": "stream",
     "text": [
      "41.62213328722847 41.706047422909286\n",
      "82.13573206639985 82.34928536495968\n",
      "38.20070470371074 38.28368918876271\n"
     ]
    },
    {
     "data": {
      "application/vnd.jupyter.widget-view+json": {
       "model_id": "48aefdccdfc44d1495d282e5f8dd99a2",
       "version_major": 2,
       "version_minor": 0
      },
      "text/plain": [
       "output:   0%|          | 0/3 [00:00<?, ?it/s]"
      ]
     },
     "metadata": {},
     "output_type": "display_data"
    },
    {
     "name": "stdout",
     "output_type": "stream",
     "text": [
      "41.61192686241033 41.69315028327739\n",
      "82.10897745696016 82.31911864554108\n",
      "38.19203117970075 38.27075167020817\n",
      "best (lowest) mse:  0.004472033495938135  with σ= 0.00017372453771800754  and estimated uncertainty  12.786353056717706\n",
      "with params lr=0.5, epochs=30\n"
     ]
    }
   ],
   "source": [
    "param_grid = {\n",
    "    'lr': [1e0, 5e-1, 2e-1, 1e-1, 5e-2],\n",
    "    'num_epochs': [30, 50],\n",
    "}\n",
    "#param_grid = {'lr': [5e-1], 'num_epochs': [1]}\n",
    "\n",
    "param_nested_list = [param_grid[key] for key in param_grid.keys()]\n",
    "param_list = list(itertools.product(*param_nested_list))\n",
    "\n",
    "def k_fold_split(X, k=5):\n",
    "    # Calculate the size of each fold\n",
    "    fold_size = len(X) // k\n",
    "\n",
    "    # Initialize a list to store the folds\n",
    "    folds = []\n",
    "\n",
    "    # Create each fold\n",
    "    for i in range(k):\n",
    "        # Calculate the start and end indices of the current fold\n",
    "        start = i * fold_size\n",
    "        end = (i + 1) * fold_size if i < k - 1 else len(X)\n",
    "\n",
    "        # Get the fold data\n",
    "        fold = X[start:end]\n",
    "\n",
    "        # Add the fold to the list of folds\n",
    "        folds.append(fold)\n",
    "\n",
    "    return folds\n",
    "    \n",
    "def k_fold_cv(cv=5, lr=1e-3, num_epochs=50):\n",
    "    print('starting CV for lr={}, epochs={}'.format(lr, num_epochs))\n",
    "    folds_X = k_fold_split(X_train_norm, k=cv)\n",
    "    folds_y = k_fold_split(y_train_norm, k=cv)\n",
    "    num_outputs = len(y_train_norm[0])\n",
    "    mse_list = np.zeros((cv, num_outputs))\n",
    "    mean_uncertainty_list = np.zeros((cv, num_outputs))\n",
    "    median_uncertainty_list = np.zeros((cv, num_outputs))\n",
    "\n",
    "    \n",
    "    for i in trange(cv, desc='CV'):\n",
    "        idx_list = list(range(cv))\n",
    "        del idx_list[i]\n",
    "        \n",
    "        X_train_cv = torch.concat([folds_X[k] for k in idx_list], axis=0)\n",
    "        y_train_cv = torch.concat([folds_y[k] for k in idx_list], axis=0)\n",
    "        X_val_cv = folds_X[i]\n",
    "        y_val_cv = folds_y[i]\n",
    "        \n",
    "        for j in trange(num_outputs, desc='output', leave=False, position=0):\n",
    "            likelihood = gpytorch.likelihoods.GaussianLikelihood()\n",
    "            model = Exact_GP(X_train_cv, y_train_cv[:, j], likelihood)\n",
    "        \n",
    "            model.train()\n",
    "            likelihood.train()\n",
    "\n",
    "            optimizer = torch.optim.Adam(model.parameters(), lr=lr)\n",
    "            mll = gpytorch.mlls.ExactMarginalLogLikelihood(likelihood, model)\n",
    "        \n",
    "            current_it = 0\n",
    "            while(current_it < num_epochs):\n",
    "                # Zero the Gradients\n",
    "                optimizer.zero_grad()\n",
    "                \n",
    "                # Perform Forward Pass\n",
    "                model_output = model(X_train_cv)\n",
    "                \n",
    "                # Compute Loss\n",
    "                loss = -mll(model_output, y_train_cv[:, j])\n",
    "                \n",
    "                # Perform Backward Pass\n",
    "                loss.backward()\n",
    "                \n",
    "                # Clear cache\n",
    "                gc.collect()\n",
    "                torch.cuda.empty_cache()\n",
    "                current_it += 1\n",
    "                \n",
    "                # Optimization\n",
    "                optimizer.step()\n",
    "            \n",
    "            model.eval()\n",
    "            likelihood.eval()\n",
    "            with torch.no_grad(), gpytorch.settings.fast_pred_var():\n",
    "                pred_dist_train = likelihood(model(X_train_cv))\n",
    "                pred_dist_val = likelihood(model(X_val_cv))\n",
    "                y_train_predict = pred_dist_train.mean\n",
    "                y_val_predict = pred_dist_val.mean\n",
    "                #variance = pred_dist_val.variance\n",
    "                lower, upper = pred_dist_val.confidence_region()\n",
    "                lower_unscaled = np.exp(ss_out.inverse_transform(lower.reshape(-1, 1).repeat(1, 3)))[:, j]\n",
    "                upper_unscaled = np.exp(ss_out.inverse_transform(upper.reshape(-1, 1).repeat(1, 3)))[:, j]\n",
    "                y_val_predict_unscaled = np.exp(ss_out.inverse_transform(y_val_predict.reshape(-1, 1).repeat(1, 3)))[:, j]\n",
    "                mse_list[i, j] = mean_squared_error(y_val_cv[:, j], y_val_predict)\n",
    "                median_uncertainty_list[i, j] = np.median((upper_unscaled - lower_unscaled)/(4*y_val_predict_unscaled)*100)\n",
    "                mean_uncertainty_list[i, j] = np.mean((upper_unscaled - lower_unscaled)/(4*y_val_predict_unscaled)*100)\n",
    "                print(median_uncertainty_list[i, j], mean_uncertainty_list[i, j])\n",
    "                X_train_cv = torch.concat([X_train_cv, y_train_predict.reshape(-1, 1)], axis=1)\n",
    "                X_val_cv = torch.concat([X_val_cv, y_val_predict.reshape(-1, 1)], axis=1)\n",
    "        \n",
    "    mse_list_energy_averaged = np.mean(mse_list, axis=1)\n",
    "    mean_cv_mse = np.mean(mse_list_energy_averaged)\n",
    "    std_cv_mse = np.std(mse_list_energy_averaged)\n",
    "    mean_uncertainty_max = np.mean(mean_uncertainty_list[:, 0])\n",
    "    median_uncertainty_max = np.mean(median_uncertainty_list[:, 0])\n",
    "    return [mean_cv_mse, std_cv_mse, mean_uncertainty_max, median_uncertainty_max]\n",
    "\n",
    "def GridSearchCV(param_list, cv=5):\n",
    "    mse_list = np.zeros(len(param_list))\n",
    "    std_list = np.zeros(len(param_list))\n",
    "    mean_unc_list = np.zeros(len(param_list))\n",
    "    median_unc_list = np.zeros(len(param_list))\n",
    "    for k, param in enumerate(param_list):\n",
    "        lr = param[0]\n",
    "        num_epochs = param[1]\n",
    "        mse, std, σ1, σ2 = k_fold_cv(cv=cv, lr=lr, num_epochs=num_epochs)\n",
    "        mse_list[k] = mse\n",
    "        std_list[k] = std\n",
    "        mean_unc_list[k] = σ1\n",
    "        median_unc_list[k] = σ2\n",
    "    best_idx = np.argmin(mse_list)\n",
    "    print('best (lowest) mse: ', mse_list[best_idx], ' with σ=', std_list[best_idx], ' and estimated uncertainty ', median_unc_list[best_idx])\n",
    "    print('with params lr={}, epochs={}'.format(param_list[int(best_idx)][0], param_list[int(best_idx)][1]))\n",
    "    return pd.DataFrame({'Params (lr, epochs)':param_list, 'Mean Squared Error':mse_list, 'Standard Deviation':std_list, 'Mean Uncertainty': mean_unc_list, 'Median Uncertainty': median_unc_list})\n",
    "        \n",
    "        \n",
    "output_df = GridSearchCV(param_list, cv=3)"
   ]
  },
  {
   "cell_type": "code",
   "execution_count": 6,
   "id": "2144c122-2e23-4120-a558-0a9fdd2d1910",
   "metadata": {},
   "outputs": [
    {
     "data": {
      "text/html": [
       "<div>\n",
       "<style scoped>\n",
       "    .dataframe tbody tr th:only-of-type {\n",
       "        vertical-align: middle;\n",
       "    }\n",
       "\n",
       "    .dataframe tbody tr th {\n",
       "        vertical-align: top;\n",
       "    }\n",
       "\n",
       "    .dataframe thead th {\n",
       "        text-align: right;\n",
       "    }\n",
       "</style>\n",
       "<table border=\"1\" class=\"dataframe\">\n",
       "  <thead>\n",
       "    <tr style=\"text-align: right;\">\n",
       "      <th></th>\n",
       "      <th>Params (lr, epochs)</th>\n",
       "      <th>Mean Squared Error</th>\n",
       "      <th>Standard Deviation</th>\n",
       "      <th>Mean Uncertainty</th>\n",
       "      <th>Median Uncertainty</th>\n",
       "    </tr>\n",
       "  </thead>\n",
       "  <tbody>\n",
       "    <tr>\n",
       "      <th>2</th>\n",
       "      <td>(0.5, 30)</td>\n",
       "      <td>0.004472</td>\n",
       "      <td>0.000174</td>\n",
       "      <td>12.809680</td>\n",
       "      <td>12.786353</td>\n",
       "    </tr>\n",
       "    <tr>\n",
       "      <th>5</th>\n",
       "      <td>(0.2, 50)</td>\n",
       "      <td>0.004476</td>\n",
       "      <td>0.000173</td>\n",
       "      <td>11.672383</td>\n",
       "      <td>11.647118</td>\n",
       "    </tr>\n",
       "    <tr>\n",
       "      <th>3</th>\n",
       "      <td>(0.5, 50)</td>\n",
       "      <td>0.004495</td>\n",
       "      <td>0.000176</td>\n",
       "      <td>11.302422</td>\n",
       "      <td>11.277527</td>\n",
       "    </tr>\n",
       "    <tr>\n",
       "      <th>1</th>\n",
       "      <td>(1.0, 50)</td>\n",
       "      <td>0.004500</td>\n",
       "      <td>0.000187</td>\n",
       "      <td>11.097155</td>\n",
       "      <td>11.071916</td>\n",
       "    </tr>\n",
       "    <tr>\n",
       "      <th>4</th>\n",
       "      <td>(0.2, 30)</td>\n",
       "      <td>0.004510</td>\n",
       "      <td>0.000164</td>\n",
       "      <td>8.416016</td>\n",
       "      <td>8.397269</td>\n",
       "    </tr>\n",
       "    <tr>\n",
       "      <th>7</th>\n",
       "      <td>(0.1, 50)</td>\n",
       "      <td>0.004516</td>\n",
       "      <td>0.000159</td>\n",
       "      <td>12.010063</td>\n",
       "      <td>11.985110</td>\n",
       "    </tr>\n",
       "    <tr>\n",
       "      <th>0</th>\n",
       "      <td>(1.0, 30)</td>\n",
       "      <td>0.004523</td>\n",
       "      <td>0.000198</td>\n",
       "      <td>11.126176</td>\n",
       "      <td>11.098166</td>\n",
       "    </tr>\n",
       "    <tr>\n",
       "      <th>6</th>\n",
       "      <td>(0.1, 30)</td>\n",
       "      <td>0.004644</td>\n",
       "      <td>0.000182</td>\n",
       "      <td>31.826335</td>\n",
       "      <td>31.770945</td>\n",
       "    </tr>\n",
       "    <tr>\n",
       "      <th>9</th>\n",
       "      <td>(0.05, 50)</td>\n",
       "      <td>0.004744</td>\n",
       "      <td>0.000181</td>\n",
       "      <td>41.700673</td>\n",
       "      <td>41.617310</td>\n",
       "    </tr>\n",
       "    <tr>\n",
       "      <th>8</th>\n",
       "      <td>(0.05, 30)</td>\n",
       "      <td>0.005301</td>\n",
       "      <td>0.000245</td>\n",
       "      <td>79.912177</td>\n",
       "      <td>79.719428</td>\n",
       "    </tr>\n",
       "  </tbody>\n",
       "</table>\n",
       "</div>"
      ],
      "text/plain": [
       "  Params (lr, epochs)  Mean Squared Error  Standard Deviation  \\\n",
       "2           (0.5, 30)            0.004472            0.000174   \n",
       "5           (0.2, 50)            0.004476            0.000173   \n",
       "3           (0.5, 50)            0.004495            0.000176   \n",
       "1           (1.0, 50)            0.004500            0.000187   \n",
       "4           (0.2, 30)            0.004510            0.000164   \n",
       "7           (0.1, 50)            0.004516            0.000159   \n",
       "0           (1.0, 30)            0.004523            0.000198   \n",
       "6           (0.1, 30)            0.004644            0.000182   \n",
       "9          (0.05, 50)            0.004744            0.000181   \n",
       "8          (0.05, 30)            0.005301            0.000245   \n",
       "\n",
       "   Mean Uncertainty  Median Uncertainty  \n",
       "2         12.809680           12.786353  \n",
       "5         11.672383           11.647118  \n",
       "3         11.302422           11.277527  \n",
       "1         11.097155           11.071916  \n",
       "4          8.416016            8.397269  \n",
       "7         12.010063           11.985110  \n",
       "0         11.126176           11.098166  \n",
       "6         31.826335           31.770945  \n",
       "9         41.700673           41.617310  \n",
       "8         79.912177           79.719428  "
      ]
     },
     "metadata": {},
     "output_type": "display_data"
    }
   ],
   "source": [
    "display(output_df.sort_values(by='Mean Squared Error', ascending=True))"
   ]
  },
  {
   "cell_type": "code",
   "execution_count": 7,
   "id": "ea5d143f-29c8-40bf-be9d-5fee3cbe4847",
   "metadata": {},
   "outputs": [],
   "source": [
    "import os\n",
    "os.makedirs('gpr_cv_results', exist_ok=True)\n",
    "\n",
    "# Then save\n",
    "output_df.to_csv('gpr_cv_results/grid_search.csv', index=False)"
   ]
  }
 ],
 "metadata": {
  "kernelspec": {
   "display_name": "Python 3",
   "language": "python",
   "name": "python3"
  },
  "language_info": {
   "codemirror_mode": {
    "name": "ipython",
    "version": 3
   },
   "file_extension": ".py",
   "mimetype": "text/x-python",
   "name": "python",
   "nbconvert_exporter": "python",
   "pygments_lexer": "ipython3",
   "version": "3.12.5"
  }
 },
 "nbformat": 4,
 "nbformat_minor": 5
}
